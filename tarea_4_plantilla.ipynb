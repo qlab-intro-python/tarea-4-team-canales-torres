{
 "cells": [
  {
   "cell_type": "markdown",
   "metadata": {},
   "source": [
    "# **Tarea Nº 4**\n",
    "Scope: APIs"
   ]
  },
  {
   "cell_type": "markdown",
   "metadata": {},
   "source": [
    "Curso:          Fundamentos de Programación en Python para Macroeconomía y Finanzas     \n",
    "Profesor:       Victor Fuentes Campos     "
   ]
  },
  {
   "cell_type": "markdown",
   "metadata": {},
   "source": [
    "- Fecha y hora de entrega: Viernes 12 de enero, 11:59pm\n",
    "- Agregue los nombres de las personas con las que discutió esta tarea: ____ Nestor Canales / Adriana Torres ______\n",
    "- Envíe su tarea haciendo el `push` de su código a su repo en GitHub Classroom: "
   ]
  },
  {
   "cell_type": "markdown",
   "metadata": {},
   "source": [
    "The Central Bank Reserve of Perú (BCRP) holds a list of datasets that are among the most comprehensive for macroeconomic purposes. In this exercise, we'll retrieve data from the [BCRP API](https://estadisticas.bcrp.gob.pe/estadisticas/series/ayuda/api) and explore the impact of pandemics"
   ]
  },
  {
   "cell_type": "markdown",
   "metadata": {},
   "source": [
    "## Before starting"
   ]
  },
  {
   "cell_type": "markdown",
   "metadata": {},
   "source": [
    "- You must pull the necessary data using `get` and `requests`\n",
    "- You are required to apply the concepts learned in the previous sessions (`pandas`, `if`, `loop`, `function`)\n",
    "- Hint: here is the BCRP url structure for the APIs call:\n",
    "```html\n",
    "https://estadisticas.bcrp.gob.pe/estadisticas/series/api/[códigos de series]/[formato de salida]/[periodo inicial]/[periodo final]/[idioma]\n",
    "```"
   ]
  },
  {
   "cell_type": "markdown",
   "metadata": {},
   "source": [
    "## The very long run"
   ]
  },
  {
   "cell_type": "markdown",
   "metadata": {},
   "source": [
    "1. Locate the \"Estadísticas de 100 años del BCRP\" section in the BCRP´s series data statistics [here](https://estadisticas.bcrp.gob.pe/estadisticas/series/index) and identify the necessary code for the serie **`PBI (Mill S/ 2007)`**. Later, add manually the annual GDP values for 2022 and 2023 (be careful with the units of data). Then, **calculate** the Peruvian annual GDP growth (%) since 1922 to 2023. Finally, plot it using a very simple graph through `matplotlib` and provide critical insights (no more than 100 words)\n",
    "\n",
    "    Hint1: use `.json()` for exploring the `content`. Your data is inside `[\"periods\"]`\n",
    "    \n",
    "    Hint2: the graph must looks something like this: <img src=\"growth_gdp_long_run.png\" max-width=\"300\">\n",
    "    "
   ]
  },
  {
   "cell_type": "code",
   "execution_count": 38,
   "metadata": {},
   "outputs": [
    {
     "data": {
      "text/plain": [
       "200"
      ]
     },
     "execution_count": 38,
     "metadata": {},
     "output_type": "execute_result"
    }
   ],
   "source": [
    "# Solution\n",
    "import requests\n",
    "response1 = requests.get(\"https://estadisticas.bcrp.gob.pe/estadisticas/series/api/PD39552DA/json/1922/2021\")\n",
    "status_code1 = response1.status_code\n",
    "status_code1 # Si tiene un valor de 200 significa que no hay problemas en conectar con el server."
   ]
  },
  {
   "cell_type": "code",
   "execution_count": 39,
   "metadata": {},
   "outputs": [
    {
     "data": {
      "text/plain": [
       "{'config': {'title': 'PBI Sectorial',\n",
       "  'series': [{'name': 'PBI Sectorial - PBI (Var.%)', 'dec': '2'}]},\n",
       " 'periods': [{'name': '1922', 'values': ['5.0729656158704']},\n",
       "  {'name': '1923', 'values': ['4.49074992490569']},\n",
       "  {'name': '1924', 'values': ['8.90188453818352']},\n",
       "  {'name': '1925', 'values': ['3.14503419077236']},\n",
       "  {'name': '1926', 'values': ['9.38144740696487']},\n",
       "  {'name': '1927', 'values': ['3.06884366977354']},\n",
       "  {'name': '1928', 'values': ['5.37128980577405']},\n",
       "  {'name': '1929', 'values': ['12.5901916131793']},\n",
       "  {'name': '1930', 'values': ['-9.49378571993242']},\n",
       "  {'name': '1931', 'values': ['-6.60573484082909']},\n",
       "  {'name': '1932', 'values': ['-3.25061969031152']},\n",
       "  {'name': '1933', 'values': ['10.7601785436389']},\n",
       "  {'name': '1934', 'values': ['12.7040813671012']},\n",
       "  {'name': '1935', 'values': ['8.85232604830794']},\n",
       "  {'name': '1936', 'values': ['4.81434996118963']},\n",
       "  {'name': '1937', 'values': ['1.9379182894299']},\n",
       "  {'name': '1938', 'values': ['2.00597873801003']},\n",
       "  {'name': '1939', 'values': ['0.818293864820504']},\n",
       "  {'name': '1940', 'values': ['2.46835774526598']},\n",
       "  {'name': '1941', 'values': ['0.85069758753778']},\n",
       "  {'name': '1942', 'values': ['-1.03416729252342']},\n",
       "  {'name': '1943', 'values': ['1.74957620857994']},\n",
       "  {'name': '1944', 'values': ['8.05497144164245']},\n",
       "  {'name': '1945', 'values': ['3.42857156321305']},\n",
       "  {'name': '1946', 'values': ['4.01320583059712']},\n",
       "  {'name': '1947', 'values': ['3.45913539134222']},\n",
       "  {'name': '1948', 'values': ['3.75489968672844']},\n",
       "  {'name': '1949', 'values': ['7.77153406229793']},\n",
       "  {'name': '1950', 'values': ['8.0218957385716']},\n",
       "  {'name': '1951', 'values': ['9.26441837732159']},\n",
       "  {'name': '1952', 'values': ['5.8956408937398']},\n",
       "  {'name': '1953', 'values': ['5.78283734977929']},\n",
       "  {'name': '1954', 'values': ['5.34491364680044']},\n",
       "  {'name': '1955', 'values': ['5.86785944429704']},\n",
       "  {'name': '1956', 'values': ['4.70120663110029']},\n",
       "  {'name': '1957', 'values': ['6.64626222556596']},\n",
       "  {'name': '1958', 'values': ['-1.06620063811708']},\n",
       "  {'name': '1959', 'values': ['3.15528473730269']},\n",
       "  {'name': '1960', 'values': ['9.8864154085432']},\n",
       "  {'name': '1961', 'values': ['7.34709633145569']},\n",
       "  {'name': '1962', 'values': ['10.0352933342212']},\n",
       "  {'name': '1963', 'values': ['4.32824981844591']},\n",
       "  {'name': '1964', 'values': ['6.54786765047102']},\n",
       "  {'name': '1965', 'values': ['5.62173344947736']},\n",
       "  {'name': '1966', 'values': ['8.2389204457594']},\n",
       "  {'name': '1967', 'values': ['3.85256440782895']},\n",
       "  {'name': '1968', 'values': ['0.152237710931757']},\n",
       "  {'name': '1969', 'values': ['3.51445891251396']},\n",
       "  {'name': '1970', 'values': ['3.36594600332614']},\n",
       "  {'name': '1971', 'values': ['4.59053992759885']},\n",
       "  {'name': '1972', 'values': ['3.47753512310473']},\n",
       "  {'name': '1973', 'values': ['6.27693475562022']},\n",
       "  {'name': '1974', 'values': ['9.38683491938303']},\n",
       "  {'name': '1975', 'values': ['4.30086316548426']},\n",
       "  {'name': '1976', 'values': ['1.44711099517411']},\n",
       "  {'name': '1977', 'values': ['0.349063699303812']},\n",
       "  {'name': '1978', 'values': ['-2.64250297882154']},\n",
       "  {'name': '1979', 'values': ['4.09075057410003']},\n",
       "  {'name': '1980', 'values': ['5.94333539830841']},\n",
       "  {'name': '1981', 'values': ['5.55204181484051']},\n",
       "  {'name': '1982', 'values': ['-0.222723444186343']},\n",
       "  {'name': '1983', 'values': ['-10.408085798297']},\n",
       "  {'name': '1984', 'values': ['3.60828653816976']},\n",
       "  {'name': '1985', 'values': ['2.06113206625882']},\n",
       "  {'name': '1986', 'values': ['9.42596236073668']},\n",
       "  {'name': '1987', 'values': ['9.72614643050365']},\n",
       "  {'name': '1988', 'values': ['-9.44127344629386']},\n",
       "  {'name': '1989', 'values': ['-12.3120414471297']},\n",
       "  {'name': '1990', 'values': ['-4.98256353646596']},\n",
       "  {'name': '1991', 'values': ['2.21925910279084']},\n",
       "  {'name': '1992', 'values': ['-0.540509124723954']},\n",
       "  {'name': '1993', 'values': ['5.24357700773291']},\n",
       "  {'name': '1994', 'values': ['12.3081633461126']},\n",
       "  {'name': '1995', 'values': ['7.41158433074445']},\n",
       "  {'name': '1996', 'values': ['2.79912576994205']},\n",
       "  {'name': '1997', 'values': ['6.47681594916914']},\n",
       "  {'name': '1998', 'values': ['-0.391676218991122']},\n",
       "  {'name': '1999', 'values': ['1.49479206967638']},\n",
       "  {'name': '2000', 'values': ['2.69435920149046']},\n",
       "  {'name': '2001', 'values': ['0.617833964480781']},\n",
       "  {'name': '2002', 'values': ['5.45370540112502']},\n",
       "  {'name': '2003', 'values': ['4.16488270414645']},\n",
       "  {'name': '2004', 'values': ['4.95828114945552']},\n",
       "  {'name': '2005', 'values': ['6.28520818052942']},\n",
       "  {'name': '2006', 'values': ['7.5287768916583']},\n",
       "  {'name': '2007', 'values': ['8.51845009195584']},\n",
       "  {'name': '2008', 'values': ['9.12656830146415']},\n",
       "  {'name': '2009', 'values': ['1.09582365924273']},\n",
       "  {'name': '2010', 'values': ['8.33245910749594']},\n",
       "  {'name': '2011', 'values': ['6.32719240161109']},\n",
       "  {'name': '2012', 'values': ['6.13972470560439']},\n",
       "  {'name': '2013', 'values': ['5.85251821084913']},\n",
       "  {'name': '2014', 'values': ['2.38215737180558']},\n",
       "  {'name': '2015', 'values': ['3.25224477218443']},\n",
       "  {'name': '2016', 'values': ['3.95331871520763']},\n",
       "  {'name': '2017', 'values': ['2.51883544233142']},\n",
       "  {'name': '2018', 'values': ['3.97693571755009']},\n",
       "  {'name': '2019', 'values': ['2.23317404355998']},\n",
       "  {'name': '2020', 'values': ['-11.0139705494278']},\n",
       "  {'name': '2021', 'values': ['13.5505317536082']}]}"
      ]
     },
     "execution_count": 39,
     "metadata": {},
     "output_type": "execute_result"
    }
   ],
   "source": [
    "response1.json()"
   ]
  },
  {
   "cell_type": "code",
   "execution_count": 44,
   "metadata": {},
   "outputs": [
    {
     "data": {
      "text/plain": [
       "200"
      ]
     },
     "execution_count": 44,
     "metadata": {},
     "output_type": "execute_result"
    }
   ],
   "source": [
    "response2 = requests.get(\"https://estadisticas.bcrp.gob.pe/estadisticas/series/api/PN01728AM/json/2022/2024\")\n",
    "status_code2 = response2.status_code\n",
    "status_code2"
   ]
  },
  {
   "cell_type": "code",
   "execution_count": 45,
   "metadata": {},
   "outputs": [
    {
     "data": {
      "text/plain": [
       "{'config': {'title': 'Producto bruto interno y demanda interna (variaciones porcentuales anualizadas)',\n",
       "  'series': [{'name': 'Producto bruto interno y demanda interna (variaciones porcentuales anualizadas) - PBI',\n",
       "    'dec': '1'}]},\n",
       " 'periods': [{'name': 'Ene.2022', 'values': ['2.76349432316665']},\n",
       "  {'name': 'Feb.2022', 'values': ['4.70291294109833']},\n",
       "  {'name': 'Mar.2022', 'values': ['3.83830111073661']},\n",
       "  {'name': 'Abr.2022', 'values': ['4.00212973664761']},\n",
       "  {'name': 'May.2022', 'values': ['2.61019336189649']},\n",
       "  {'name': 'Jun.2022', 'values': ['3.47478980814159']},\n",
       "  {'name': 'Jul.2022', 'values': ['1.8025721283913']},\n",
       "  {'name': 'Ago.2022', 'values': ['1.97427453328511']},\n",
       "  {'name': 'Sep.2022', 'values': ['2.13997812996818']},\n",
       "  {'name': 'Oct.2022', 'values': ['2.3335148356285']},\n",
       "  {'name': 'Nov.2022', 'values': ['2.12160068474319']},\n",
       "  {'name': 'Dic.2022', 'values': ['1.04248993191112']},\n",
       "  {'name': 'Ene.2023', 'values': ['-0.868373324968725']},\n",
       "  {'name': 'Feb.2023', 'values': ['-0.581190675599751']},\n",
       "  {'name': 'Mar.2023', 'values': ['0.313508083058099']},\n",
       "  {'name': 'Abr.2023', 'values': ['0.372229964113107']},\n",
       "  {'name': 'May.2023', 'values': ['-1.30342093295249']},\n",
       "  {'name': 'Jun.2023', 'values': ['-0.5369872200895']},\n",
       "  {'name': 'Jul.2023', 'values': ['-1.19745463511822']},\n",
       "  {'name': 'Ago.2023', 'values': ['-0.520898800345473']},\n",
       "  {'name': 'Sep.2023', 'values': ['-1.29424349489705']},\n",
       "  {'name': 'Oct.2023', 'values': ['-0.82411021627867']}]}"
      ]
     },
     "execution_count": 45,
     "metadata": {},
     "output_type": "execute_result"
    }
   ],
   "source": [
    "response2.json()"
   ]
  },
  {
   "cell_type": "markdown",
   "metadata": {},
   "source": [
    "## The hitman"
   ]
  },
  {
   "cell_type": "markdown",
   "metadata": {},
   "source": [
    "2. Retrieve the up-to-date data for the monthly GDP in index (2007=100) from this [link](https://estadisticas.bcrp.gob.pe/estadisticas/series/mensuales/producto-bruto-interno-y-demanda-interna-variaciones-indice-2007). Then, calculate the the 5-year average monthly growth previous to the pandemics (ending in Feb-2020) for the 12-month rolling mean of the index, and project the alternative scenario of the Peruvian economy without the COVID-19. Then plot them out and provide insight from the gap between the real data and the pre-pandemic trend.\n",
    "\n",
    "    Hint1: You may use the regression type of your election, but the OLS is recommended. \n",
    "    \n",
    "    Hint2: Your plot should look somethig like this. You aren´t required to add flags/annotations/texts inside the graph <img src=\"growth_gdp_pandemics.png\" max-width=\"300\">\n",
    "\n",
    "    Hint3: For more details about calculation, review this post from [The Economist](https://www.economist.com/graphic-detail/2021/10/28/americas-post-covid-economic-recovery-suffers-a-setback)\n",
    "    \n"
   ]
  },
  {
   "cell_type": "code",
   "execution_count": null,
   "metadata": {},
   "outputs": [],
   "source": [
    "# Solution"
   ]
  },
  {
   "cell_type": "markdown",
   "metadata": {},
   "source": [
    "## The winners"
   ]
  },
  {
   "cell_type": "markdown",
   "metadata": {},
   "source": [
    "- Based on the [Nasdaq Stock Screener](https://www.nasdaq.com/market-activity/stocks/screener), identify the three largest companies in the three larger sectors defined by market cap\n",
    "- Elaborate a list/dictionary/series (what ever you think is more suitable) containing all tickers (or symbols) and sectors from these companies.\n",
    "- So far, you can download data from Nasdaq, web scrape it or copy it manually. It doesn´t matter\n",
    "- Then, use `yfinance` library to retrieve the market data for all the 9 firms\n",
    "- Construct a table with the most common *institucional holders* by sector. Is there any interesting pattern? Hint: loop the `institutional_holders` from `yfinance`\n",
    "- Calculate the distribution of the daily percentage returns for the 3 larger companies (defined by market cap) along the last 5 years. Plot your results (feel free to find the most appealing way to represent them) and provide critical insights"
   ]
  },
  {
   "cell_type": "markdown",
   "metadata": {},
   "source": [
    "$$\n",
    "  percentage\\_return_{t} = \\frac{price_t-price_{t-1}}{price_t}*100+dividends (\\%)\n",
    "$$"
   ]
  },
  {
   "cell_type": "markdown",
   "metadata": {},
   "source": [
    "- Hint1: you can find the `dividens` through the `yfinance`'s \n",
    "`Ticker()`\n",
    "- Hint2: some firms may not be paying dividends"
   ]
  },
  {
   "cell_type": "code",
   "execution_count": null,
   "metadata": {},
   "outputs": [],
   "source": [
    "# Solution"
   ]
  }
 ],
 "metadata": {
  "hide_input": false,
  "kernelspec": {
   "display_name": "Python 3 (ipykernel)",
   "language": "python",
   "name": "python3"
  },
  "language_info": {
   "codemirror_mode": {
    "name": "ipython",
    "version": 3
   },
   "file_extension": ".py",
   "mimetype": "text/x-python",
   "name": "python",
   "nbconvert_exporter": "python",
   "pygments_lexer": "ipython3",
   "version": "3.9.7"
  },
  "toc": {
   "base_numbering": 1,
   "nav_menu": {},
   "number_sections": true,
   "sideBar": true,
   "skip_h1_title": false,
   "title_cell": "Table of Contents",
   "title_sidebar": "Contents",
   "toc_cell": false,
   "toc_position": {},
   "toc_section_display": true,
   "toc_window_display": false
  }
 },
 "nbformat": 4,
 "nbformat_minor": 4
}
